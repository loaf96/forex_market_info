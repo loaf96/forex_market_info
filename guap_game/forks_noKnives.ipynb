{
 "cells": [
  {
   "cell_type": "code",
   "execution_count": 1,
   "metadata": {},
   "outputs": [],
   "source": [
    "import pandas as pd\n",
    "import numpy as np"
   ]
  },
  {
   "cell_type": "code",
   "execution_count": 2,
   "metadata": {},
   "outputs": [],
   "source": [
    "nine_tine = pd.read_csv('D2019.csv', encoding='utf-8', delimiter=';', header=None)"
   ]
  },
  {
   "cell_type": "code",
   "execution_count": 3,
   "metadata": {},
   "outputs": [
    {
     "data": {
      "text/html": [
       "<div>\n",
       "<style scoped>\n",
       "    .dataframe tbody tr th:only-of-type {\n",
       "        vertical-align: middle;\n",
       "    }\n",
       "\n",
       "    .dataframe tbody tr th {\n",
       "        vertical-align: top;\n",
       "    }\n",
       "\n",
       "    .dataframe thead th {\n",
       "        text-align: right;\n",
       "    }\n",
       "</style>\n",
       "<table border=\"1\" class=\"dataframe\">\n",
       "  <thead>\n",
       "    <tr style=\"text-align: right;\">\n",
       "      <th></th>\n",
       "      <th>0</th>\n",
       "      <th>1</th>\n",
       "      <th>2</th>\n",
       "      <th>3</th>\n",
       "      <th>4</th>\n",
       "      <th>5</th>\n",
       "      <th>6</th>\n",
       "      <th>7</th>\n",
       "      <th>8</th>\n",
       "      <th>9</th>\n",
       "    </tr>\n",
       "  </thead>\n",
       "  <tbody>\n",
       "    <tr>\n",
       "      <th>0</th>\n",
       "      <td>2019/01/01</td>\n",
       "      <td>19:00:00</td>\n",
       "      <td>Singapore</td>\n",
       "      <td>Low Volatility Expected</td>\n",
       "      <td>GDP                                           ...</td>\n",
       "      <td>Worse Than Expected</td>\n",
       "      <td>%</td>\n",
       "      <td>1.6</td>\n",
       "      <td>2.9</td>\n",
       "      <td>evised From 3.0</td>\n",
       "    </tr>\n",
       "    <tr>\n",
       "      <th>1</th>\n",
       "      <td>2019/01/01</td>\n",
       "      <td>19:00:00</td>\n",
       "      <td>Singapore</td>\n",
       "      <td>Low Volatility Expected</td>\n",
       "      <td>GDP                                           ...</td>\n",
       "      <td>Worse Than Expected</td>\n",
       "      <td>%</td>\n",
       "      <td>2.2</td>\n",
       "      <td>2.7</td>\n",
       "      <td>evised From 2.2</td>\n",
       "    </tr>\n",
       "    <tr>\n",
       "      <th>2</th>\n",
       "      <td>2019/01/01</td>\n",
       "      <td>19:30:00</td>\n",
       "      <td>South Korea</td>\n",
       "      <td>Low Volatility Expected</td>\n",
       "      <td>Nikkei Manufacturing PMI                      ...</td>\n",
       "      <td>NaN</td>\n",
       "      <td>NaN</td>\n",
       "      <td>49.8</td>\n",
       "      <td>NaN</td>\n",
       "      <td>48.60</td>\n",
       "    </tr>\n",
       "    <tr>\n",
       "      <th>3</th>\n",
       "      <td>2019/01/01</td>\n",
       "      <td>19:30:00</td>\n",
       "      <td>Singapore</td>\n",
       "      <td>Low Volatility Expected</td>\n",
       "      <td>URA Property Index                            ...</td>\n",
       "      <td>NaN</td>\n",
       "      <td>%</td>\n",
       "      <td>-0.1</td>\n",
       "      <td>NaN</td>\n",
       "      <td>-0.10</td>\n",
       "    </tr>\n",
       "    <tr>\n",
       "      <th>4</th>\n",
       "      <td>2019/01/01</td>\n",
       "      <td>20:45:00</td>\n",
       "      <td>China</td>\n",
       "      <td>High Volatility Expected</td>\n",
       "      <td>Caixin Manufacturing PMI                      ...</td>\n",
       "      <td>Worse Than Expected</td>\n",
       "      <td>NaN</td>\n",
       "      <td>49.7</td>\n",
       "      <td>50.3</td>\n",
       "      <td>50.20</td>\n",
       "    </tr>\n",
       "  </tbody>\n",
       "</table>\n",
       "</div>"
      ],
      "text/plain": [
       "            0         1                                 2  \\\n",
       "0  2019/01/01  19:00:00  Singapore                          \n",
       "1  2019/01/01  19:00:00  Singapore                          \n",
       "2  2019/01/01  19:30:00  South Korea                        \n",
       "3  2019/01/01  19:30:00  Singapore                          \n",
       "4  2019/01/01  20:45:00  China                              \n",
       "\n",
       "                                  3  \\\n",
       "0  Low Volatility Expected            \n",
       "1  Low Volatility Expected            \n",
       "2  Low Volatility Expected            \n",
       "3  Low Volatility Expected            \n",
       "4  High Volatility Expected           \n",
       "\n",
       "                                                   4  \\\n",
       "0  GDP                                           ...   \n",
       "1  GDP                                           ...   \n",
       "2  Nikkei Manufacturing PMI                      ...   \n",
       "3  URA Property Index                            ...   \n",
       "4  Caixin Manufacturing PMI                      ...   \n",
       "\n",
       "                                  5    6     7     8                9  \n",
       "0  Worse Than Expected                %    1.6   2.9  evised From 3.0  \n",
       "1  Worse Than Expected                %    2.2   2.7  evised From 2.2  \n",
       "2                               NaN  NaN  49.8   NaN            48.60  \n",
       "3                               NaN   %   -0.1   NaN            -0.10  \n",
       "4  Worse Than Expected               NaN  49.7  50.3            50.20  "
      ]
     },
     "execution_count": 3,
     "metadata": {},
     "output_type": "execute_result"
    }
   ],
   "source": [
    "nine_tine.head()"
   ]
  },
  {
   "cell_type": "code",
   "execution_count": 4,
   "metadata": {},
   "outputs": [],
   "source": [
    "nine_tine = nine_tine.rename(columns={0:'date', 1:'time', 2:'loca', 3:'exp_vol', 4:'event', 5:'pred_acc', 6:'unit_used', 7:'act_data', 8:'forc_data', 9:'prev_data'})"
   ]
  },
  {
   "cell_type": "code",
   "execution_count": 5,
   "metadata": {},
   "outputs": [],
   "source": [
    "loca_few = pd.DataFrame(sorted(nine_tine.set_index('loca').groupby('loca')))"
   ]
  },
  {
   "cell_type": "code",
   "execution_count": 11,
   "metadata": {},
   "outputs": [
    {
     "data": {
      "text/plain": [
       "date         280\n",
       "time         280\n",
       "exp_vol      280\n",
       "event        280\n",
       "pred_acc     109\n",
       "unit_used    220\n",
       "act_data     247\n",
       "forc_data    109\n",
       "prev_data    250\n",
       "dtype: int64"
      ]
     },
     "execution_count": 11,
     "metadata": {},
     "output_type": "execute_result"
    }
   ],
   "source": [
    "loca_few[1].iloc[1].count()"
   ]
  },
  {
   "cell_type": "code",
   "execution_count": null,
   "metadata": {},
   "outputs": [],
   "source": []
  }
 ],
 "metadata": {
  "kernelspec": {
   "display_name": "Python 36 (py36)",
   "language": "python",
   "name": "pythonstuff"
  },
  "language_info": {
   "codemirror_mode": {
    "name": "ipython",
    "version": 3
   },
   "file_extension": ".py",
   "mimetype": "text/x-python",
   "name": "python",
   "nbconvert_exporter": "python",
   "pygments_lexer": "ipython3",
   "version": "3.7.3"
  }
 },
 "nbformat": 4,
 "nbformat_minor": 2
}
