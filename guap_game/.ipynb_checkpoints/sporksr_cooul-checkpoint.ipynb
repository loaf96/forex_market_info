{
 "cells": [
  {
   "cell_type": "code",
   "execution_count": 1,
   "metadata": {},
   "outputs": [],
   "source": [
    "import pandas as pd\n",
    "import numpy as np\n",
    "import time\n",
    "import re"
   ]
  },
  {
   "cell_type": "code",
   "execution_count": 3,
   "metadata": {},
   "outputs": [],
   "source": [
    "# FIRST TIME DATA FILE WAS BROUGHT IN... LATER TURNED INTO read_time function below\n",
    "#\n",
    "# nine_tine = pd.read_csv('D2019.csv', encoding='utf-8', delimiter=';', header=None)\n",
    "# nine_tine.head()\n",
    "# nine_tine = nine_tine.rename(columns={0:'date', 1:'time', 2:'loca', 3:'exp_vol', 4:'event', 5:'pred_acc', 6:'unit_used', 7:'act_data', 8:'forc_data', 9:'prev_data'})\n",
    "# loca_few = pd.DataFrame(sorted(nine_tine.set_index('loca').groupby('loca')))"
   ]
  },
  {
   "cell_type": "code",
   "execution_count": 2,
   "metadata": {},
   "outputs": [],
   "source": [
    "# brings in the csv file and puts it into a dataframe that allows for more practical uses as well as for setting up \n",
    "# the file to be able to be exported\n",
    "def read_time(df_loc):\n",
    "    df = pd.read_csv(df_loc, encoding='utf-8', delimiter=';', header=None)\n",
    "    df = df.rename(columns={0:'date', 1:'time', 2:'loca', 3:'exp_vol', 4:'event', 5:'pred_acc', 6:'unit_used', 7:'act_data', 8:'forc_data', 9:'prev_data'})\n",
    "    da_df = pd.DataFrame(sorted(df.set_index('loca').groupby('loca')))\n",
    "    return da_df"
   ]
  },
  {
   "cell_type": "code",
   "execution_count": null,
   "metadata": {},
   "outputs": [],
   "source": []
  },
  {
   "cell_type": "code",
   "execution_count": 3,
   "metadata": {},
   "outputs": [
    {
     "data": {
      "text/plain": [
       "'Brazil'"
      ]
     },
     "execution_count": 3,
     "metadata": {},
     "output_type": "execute_result"
    }
   ],
   "source": [
    "poo = loca_few[1].iloc[1]\n",
    "poop = poo.reset_index()\n",
    "poop['loca'].iloc[1].strip(' ')"
   ]
  },
  {
   "cell_type": "code",
   "execution_count": 4,
   "metadata": {},
   "outputs": [
    {
     "data": {
      "text/plain": [
       "0"
      ]
     },
     "execution_count": 4,
     "metadata": {},
     "output_type": "execute_result"
    }
   ],
   "source": [
    "auzzy_land = list(loca_few[0].values)\n",
    "real_auzzy_land = auzzy_land[0]\n",
    "auzzy_land.index(real_auzzy_land)"
   ]
  },
  {
   "cell_type": "code",
   "execution_count": 34,
   "metadata": {},
   "outputs": [],
   "source": [
    "def fuck_dux(mf_df):\n",
    "    auzzy_land = list(mf_df[0].values)\n",
    "    outbk_stk = [x for x in auzzy_land]\n",
    "    for house in outbk_stk:\n",
    "        isdank = mf_df[1].iloc[auzzy_land.index(house)]\n",
    "        filet = house.strip(' ')\n",
    "        isdank.to_csv('cutlery/' + filet + '.csv')\n",
    "        print('whats my mutha_fuckin name????????')\n",
    "    next\n",
    "    print('areeeee you readyyyyyyyyyy')\n",
    "    return"
   ]
  },
  {
   "cell_type": "code",
   "execution_count": 35,
   "metadata": {},
   "outputs": [
    {
     "name": "stdout",
     "output_type": "stream",
     "text": [
      "whats my mutha_fuckin name????????\n",
      "whats my mutha_fuckin name????????\n",
      "whats my mutha_fuckin name????????\n",
      "whats my mutha_fuckin name????????\n",
      "whats my mutha_fuckin name????????\n",
      "whats my mutha_fuckin name????????\n",
      "whats my mutha_fuckin name????????\n",
      "whats my mutha_fuckin name????????\n",
      "whats my mutha_fuckin name????????\n",
      "whats my mutha_fuckin name????????\n",
      "whats my mutha_fuckin name????????\n",
      "whats my mutha_fuckin name????????\n",
      "whats my mutha_fuckin name????????\n",
      "whats my mutha_fuckin name????????\n",
      "whats my mutha_fuckin name????????\n",
      "whats my mutha_fuckin name????????\n",
      "whats my mutha_fuckin name????????\n",
      "whats my mutha_fuckin name????????\n",
      "whats my mutha_fuckin name????????\n",
      "whats my mutha_fuckin name????????\n",
      "areeeee you readyyyyyyyyyy\n"
     ]
    }
   ],
   "source": [
    "fuck_dux(loca_few)"
   ]
  },
  {
   "cell_type": "code",
   "execution_count": null,
   "metadata": {},
   "outputs": [],
   "source": []
  }
 ],
 "metadata": {
  "kernelspec": {
   "display_name": "Python 3",
   "language": "python",
   "name": "python3"
  },
  "language_info": {
   "codemirror_mode": {
    "name": "ipython",
    "version": 3
   },
   "file_extension": ".py",
   "mimetype": "text/x-python",
   "name": "python",
   "nbconvert_exporter": "python",
   "pygments_lexer": "ipython3",
   "version": "3.7.3"
  }
 },
 "nbformat": 4,
 "nbformat_minor": 2
}
