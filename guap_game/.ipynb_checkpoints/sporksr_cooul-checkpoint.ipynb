{
 "cells": [
  {
   "cell_type": "code",
   "execution_count": 1,
   "metadata": {},
   "outputs": [],
   "source": [
    "import pandas as pd\n",
    "import numpy as np\n",
    "import time\n",
    "import re"
   ]
  },
  {
   "cell_type": "code",
   "execution_count": 3,
   "metadata": {},
   "outputs": [],
   "source": [
    "# FIRST TIME DATA FILE WAS BROUGHT IN... LATER TURNED INTO read_time function below\n",
    "#\n",
    "# nine_tine = pd.read_csv('D2019.csv', encoding='utf-8', delimiter=';', header=None)\n",
    "# nine_tine.head()\n",
    "# nine_tine = nine_tine.rename(columns={0:'date', 1:'time', 2:'loca', 3:'exp_vol', 4:'event', 5:'pred_acc', 6:'unit_used', 7:'act_data', 8:'forc_data', 9:'prev_data'})\n",
    "# loca_few = pd.DataFrame(sorted(nine_tine.set_index('loca').groupby('loca')))"
   ]
  },
  {
   "cell_type": "code",
   "execution_count": 4,
   "metadata": {},
   "outputs": [],
   "source": [
    "# brings in the csv file and puts it into a dataframe that allows for more practical uses as well as for setting up \n",
    "# the file to be able to be exported\n",
    "def read_time(df_loc):\n",
    "    df = pd.read_csv('../' + df_loc, encoding='utf-8', delimiter=';', header=None)\n",
    "    df = df.rename(columns={0:'date', 1:'time', 2:'loca', 3:'exp_vol', 4:'event', 5:'pred_acc', 6:'unit_used', 7:'act_data', 8:'forc_data', 9:'prev_data'})\n",
    "    da_df = pd.DataFrame(sorted(df.set_index('loca').groupby('loca')))\n",
    "    return da_df"
   ]
  },
  {
   "cell_type": "code",
   "execution_count": 6,
   "metadata": {},
   "outputs": [],
   "source": [
    "# seperates the df into csv files that are correlated with the year it was gathered from\n",
    "def fuck_dux(mf_df, year_s):\n",
    "    auzzy_land = list(mf_df[0].values)\n",
    "    outbk_stk = [x for x in auzzy_land]\n",
    "    for house in outbk_stk:\n",
    "        isdank = mf_df[1].iloc[auzzy_land.index(house)]\n",
    "        filet = house.strip(' ')\n",
    "        isdank.to_csv('cutlery/' + filet + year_s + '.csv')\n",
    "        print('whats my mutha_fuckin name????????')\n",
    "    next\n",
    "    print('areeeee you readyyyyyyyyyy')\n",
    "    return"
   ]
  },
  {
   "cell_type": "code",
   "execution_count": 5,
   "metadata": {},
   "outputs": [
    {
     "data": {
      "text/html": [
       "<div>\n",
       "<style scoped>\n",
       "    .dataframe tbody tr th:only-of-type {\n",
       "        vertical-align: middle;\n",
       "    }\n",
       "\n",
       "    .dataframe tbody tr th {\n",
       "        vertical-align: top;\n",
       "    }\n",
       "\n",
       "    .dataframe thead th {\n",
       "        text-align: right;\n",
       "    }\n",
       "</style>\n",
       "<table border=\"1\" class=\"dataframe\">\n",
       "  <thead>\n",
       "    <tr style=\"text-align: right;\">\n",
       "      <th></th>\n",
       "      <th>0</th>\n",
       "      <th>1</th>\n",
       "    </tr>\n",
       "  </thead>\n",
       "  <tbody>\n",
       "    <tr>\n",
       "      <th>0</th>\n",
       "      <td>Australia</td>\n",
       "      <td>date  ...</td>\n",
       "    </tr>\n",
       "    <tr>\n",
       "      <th>1</th>\n",
       "      <td>Brazil</td>\n",
       "      <td>date  ...</td>\n",
       "    </tr>\n",
       "    <tr>\n",
       "      <th>2</th>\n",
       "      <td>Canada</td>\n",
       "      <td>date  ...</td>\n",
       "    </tr>\n",
       "    <tr>\n",
       "      <th>3</th>\n",
       "      <td>China</td>\n",
       "      <td>date  ...</td>\n",
       "    </tr>\n",
       "    <tr>\n",
       "      <th>4</th>\n",
       "      <td>Euro Zone</td>\n",
       "      <td>date  ...</td>\n",
       "    </tr>\n",
       "    <tr>\n",
       "      <th>5</th>\n",
       "      <td>France</td>\n",
       "      <td>date  ...</td>\n",
       "    </tr>\n",
       "    <tr>\n",
       "      <th>6</th>\n",
       "      <td>Germany</td>\n",
       "      <td>date  ...</td>\n",
       "    </tr>\n",
       "    <tr>\n",
       "      <th>7</th>\n",
       "      <td>Hong Kong</td>\n",
       "      <td>date  ...</td>\n",
       "    </tr>\n",
       "    <tr>\n",
       "      <th>8</th>\n",
       "      <td>India</td>\n",
       "      <td>date  ...</td>\n",
       "    </tr>\n",
       "    <tr>\n",
       "      <th>9</th>\n",
       "      <td>Italy</td>\n",
       "      <td>date  ...</td>\n",
       "    </tr>\n",
       "    <tr>\n",
       "      <th>10</th>\n",
       "      <td>Japan</td>\n",
       "      <td>date  ...</td>\n",
       "    </tr>\n",
       "    <tr>\n",
       "      <th>11</th>\n",
       "      <td>New Zealand</td>\n",
       "      <td>date  ...</td>\n",
       "    </tr>\n",
       "    <tr>\n",
       "      <th>12</th>\n",
       "      <td>Russia</td>\n",
       "      <td>date  ...</td>\n",
       "    </tr>\n",
       "    <tr>\n",
       "      <th>13</th>\n",
       "      <td>Singapore</td>\n",
       "      <td>date  ...</td>\n",
       "    </tr>\n",
       "    <tr>\n",
       "      <th>14</th>\n",
       "      <td>South Africa</td>\n",
       "      <td>date  ...</td>\n",
       "    </tr>\n",
       "    <tr>\n",
       "      <th>15</th>\n",
       "      <td>South Korea</td>\n",
       "      <td>date  ...</td>\n",
       "    </tr>\n",
       "    <tr>\n",
       "      <th>16</th>\n",
       "      <td>Spain</td>\n",
       "      <td>date  ...</td>\n",
       "    </tr>\n",
       "    <tr>\n",
       "      <th>17</th>\n",
       "      <td>Switzerland</td>\n",
       "      <td>date  ...</td>\n",
       "    </tr>\n",
       "    <tr>\n",
       "      <th>18</th>\n",
       "      <td>United Kingdom</td>\n",
       "      <td>date  ...</td>\n",
       "    </tr>\n",
       "    <tr>\n",
       "      <th>19</th>\n",
       "      <td>United States</td>\n",
       "      <td>date  ...</td>\n",
       "    </tr>\n",
       "  </tbody>\n",
       "</table>\n",
       "</div>"
      ],
      "text/plain": [
       "                                   0  \\\n",
       "0   Australia                          \n",
       "1   Brazil                             \n",
       "2   Canada                             \n",
       "3   China                              \n",
       "4   Euro Zone                          \n",
       "5   France                             \n",
       "6   Germany                            \n",
       "7   Hong Kong                          \n",
       "8   India                              \n",
       "9   Italy                              \n",
       "10  Japan                              \n",
       "11  New Zealand                        \n",
       "12  Russia                             \n",
       "13  Singapore                          \n",
       "14  South Africa                       \n",
       "15  South Korea                        \n",
       "16  Spain                              \n",
       "17  Switzerland                        \n",
       "18  United Kingdom                     \n",
       "19  United States                      \n",
       "\n",
       "                                                    1  \n",
       "0                                           date  ...  \n",
       "1                                           date  ...  \n",
       "2                                           date  ...  \n",
       "3                                           date  ...  \n",
       "4                                           date  ...  \n",
       "5                                           date  ...  \n",
       "6                                           date  ...  \n",
       "7                                           date  ...  \n",
       "8                                           date  ...  \n",
       "9                                           date  ...  \n",
       "10                                          date  ...  \n",
       "11                                          date  ...  \n",
       "12                                          date  ...  \n",
       "13                                          date  ...  \n",
       "14                                          date  ...  \n",
       "15                                          date  ...  \n",
       "16                                          date  ...  \n",
       "17                                          date  ...  \n",
       "18                                          date  ...  \n",
       "19                                          date  ...  "
      ]
     },
     "execution_count": 5,
     "metadata": {},
     "output_type": "execute_result"
    }
   ],
   "source": [
    "read_time('Data/Forex/large_groups/D2019.csv')"
   ]
  },
  {
   "cell_type": "code",
   "execution_count": 3,
   "metadata": {},
   "outputs": [
    {
     "data": {
      "text/plain": [
       "'Brazil'"
      ]
     },
     "execution_count": 3,
     "metadata": {},
     "output_type": "execute_result"
    }
   ],
   "source": [
    "poo = loca_few[1].iloc[1]\n",
    "poop = poo.reset_index()\n",
    "poop['loca'].iloc[1].strip(' ')"
   ]
  },
  {
   "cell_type": "code",
   "execution_count": 4,
   "metadata": {},
   "outputs": [
    {
     "data": {
      "text/plain": [
       "0"
      ]
     },
     "execution_count": 4,
     "metadata": {},
     "output_type": "execute_result"
    }
   ],
   "source": [
    "auzzy_land = list(loca_few[0].values)\n",
    "real_auzzy_land = auzzy_land[0]\n",
    "auzzy_land.index(real_auzzy_land)"
   ]
  },
  {
   "cell_type": "code",
   "execution_count": 35,
   "metadata": {},
   "outputs": [
    {
     "name": "stdout",
     "output_type": "stream",
     "text": [
      "whats my mutha_fuckin name????????\n",
      "whats my mutha_fuckin name????????\n",
      "whats my mutha_fuckin name????????\n",
      "whats my mutha_fuckin name????????\n",
      "whats my mutha_fuckin name????????\n",
      "whats my mutha_fuckin name????????\n",
      "whats my mutha_fuckin name????????\n",
      "whats my mutha_fuckin name????????\n",
      "whats my mutha_fuckin name????????\n",
      "whats my mutha_fuckin name????????\n",
      "whats my mutha_fuckin name????????\n",
      "whats my mutha_fuckin name????????\n",
      "whats my mutha_fuckin name????????\n",
      "whats my mutha_fuckin name????????\n",
      "whats my mutha_fuckin name????????\n",
      "whats my mutha_fuckin name????????\n",
      "whats my mutha_fuckin name????????\n",
      "whats my mutha_fuckin name????????\n",
      "whats my mutha_fuckin name????????\n",
      "whats my mutha_fuckin name????????\n",
      "areeeee you readyyyyyyyyyy\n"
     ]
    }
   ],
   "source": [
    "fuck_dux(loca_few)"
   ]
  },
  {
   "cell_type": "code",
   "execution_count": null,
   "metadata": {},
   "outputs": [],
   "source": []
  }
 ],
 "metadata": {
  "kernelspec": {
   "display_name": "Python 3",
   "language": "python",
   "name": "python3"
  },
  "language_info": {
   "codemirror_mode": {
    "name": "ipython",
    "version": 3
   },
   "file_extension": ".py",
   "mimetype": "text/x-python",
   "name": "python",
   "nbconvert_exporter": "python",
   "pygments_lexer": "ipython3",
   "version": "3.7.3"
  }
 },
 "nbformat": 4,
 "nbformat_minor": 2
}
