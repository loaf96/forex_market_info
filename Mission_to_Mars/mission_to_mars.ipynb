{
 "cells": [
  {
   "cell_type": "code",
   "execution_count": 247,
   "metadata": {},
   "outputs": [],
   "source": [
    "import pandas as pd\n",
    "import requests \n",
    "from bs4 import BeautifulSoup"
   ]
  },
  {
   "cell_type": "code",
   "execution_count": 248,
   "metadata": {},
   "outputs": [],
   "source": [
    "url = 'https://mars.nasa.gov/news/'\n",
    "link = requests.get(url).text\n",
    "soup = BeautifulSoup(link, 'html.parser')"
   ]
  },
  {
   "cell_type": "code",
   "execution_count": 249,
   "metadata": {},
   "outputs": [],
   "source": [
    "top_tit = str(soup.find_all('div', class_='content_title', limit=1))\n",
    "top_tit = BeautifulSoup(top_tit).get_text().strip('[\\n\\n \\n\\n]')"
   ]
  },
  {
   "cell_type": "code",
   "execution_count": 250,
   "metadata": {},
   "outputs": [
    {
     "name": "stdout",
     "output_type": "stream",
     "text": [
      "<!DOCTYPE html>\n",
      "<html>\n",
      " <head>\n",
      "  <title>\n",
      "   404 | NASA Mars\n",
      "  </title>\n",
      "  <meta charset=\"utf-8\"/>\n",
      "  <meta content=\"initial-scale=1, minimum-scale=1, width=device-width\" name=\"viewport\"/>\n",
      "  <style>\n",
      "   html, body{font-family: Arial, Helvetica, Times, Times New Roman;margin: 0;padding: 0;background-color: rgb(0, 33, 61);}.mainTitle{margin: 0px 20px;float: left;width: 50%;position: relative;z-index: 2}.mainTitle h1{padding: 25px 20px 0 !important;font-size: 36px;line-height: 34px;margin-top: 30px;letter-spacing: 2px;text-align: left;padding: 0 !important;color: white;}.nasalogo{width: 50px;height: 30px;float: left;padding: 35px;background-image: url('/images/general/NASA-Logo.png');background-size: cover;margin: 0 0 0 25px;}#error{position: relative;z-index: 0;background: url('/imgs/mep/mars-orbiters-and-rovers.jpg'), url('/imgs/mep/mars-orbiters-and-rovers-repeat.png');background-position: top right, top right;background-repeat: no-repeat, repeat-x;min-height:800px; height: 1065px;height:92vh;}#error .text{color: whitesmoke !important;position: relative;z-index: 0;text-align: center;}.text p{color: white !important;font-size: 19px;line-height: normal;}.text a{color: gold;}/*start: FOOTER*/#footer #usagov{position: absolute;left: 10px;padding-bottom: 10px;bottom: -20px}#footer{background-color: rgb(0, 33, 61);bottom: 0px;clear: both;color: rgb(34, 34, 34);display: block;font-family: Ubuntu, Helvetica, Arial;font-size: 17.6px;height: auto;line-height: 36px;min-width: 0px;overflow-x: hidden;overflow-y: hidden;padding: 20px 5%;text-align: -webkit-center;position: relative;width: 90%}#footer #bottomnav{text-align: center;}#footer #bottomnav a{color: whitesmoke;padding: 0 1%;text-decoration: none;font-size: 0.8em;font-weight: bold;}.maxWidthCenter{max-width: 1440px;margin: 0 auto;position: relative;}/*end: FOOTER*/\n",
      "  </style>\n",
      " </head>\n",
      " <body>\n",
      "  <div id=\"error\">\n",
      "   <a href=\"https://www.nasa.gov/\" style=\"display:block; float:left; margin-left:20px; margin-top:25px;\">\n",
      "    <img alt=\"NASA Banner\" border=\"0\" height=\"67\" src=\"/images/general/NASA-Logo.png\"/>\n",
      "   </a>\n",
      "   <div style=\"float: right;margin-right:20px;margin-top:25px;text-align: center;\">\n",
      "    <a href=\"https://mars.nasa.gov\" style=\"color: white;text-decoration: none;position: relative;z-index: 1;font-size: small;font-weight: bold;\">\n",
      "     Mars Exploration\n",
      "     <br/>\n",
      "     Home\n",
      "    </a>\n",
      "   </div>\n",
      "   <div class=\"mainTitle\">\n",
      "   </div>\n",
      "   <div class=\"text\">\n",
      "    <div style=\"height:350px;\">\n",
      "    </div>\n",
      "    <h1 class=\"textWhite\">\n",
      "     404 | Page not found\n",
      "    </h1>\n",
      "    <p>\n",
      "     The page you requested either doesn't exist anymore, or was moved.\n",
      "    </p>\n",
      "    <p>\n",
      "     Explore other sections of our website at\n",
      "     <a href=\"https://mars.nasa.gov\">\n",
      "      mars.nasa.gov\n",
      "     </a>\n",
      "     .\n",
      "    </p>\n",
      "    <div style=\"height:100px;\">\n",
      "    </div>\n",
      "   </div>\n",
      "  </div>\n",
      "  <div align=\"center\" id=\"footer\">\n",
      "   <div class=\"maxWidthCenter\">\n",
      "    <!--<div id=\"usagov\"> <a href=\"http://www.usa.gov/\" target=\"_blank\"> <img src=\"https://mars.nasa.gov/layout/mepjpl/images/footer_usagov.png\" width=\"124\" height=\"38\" alt=\"USA.gov\" border=\"0\" align=\"left\"> </a> </div>-->\n",
      "    <div id=\"bottomnav\">\n",
      "     <a href=\"http://www.jpl.nasa.gov/copyrights.php\" target=\"_blank\">\n",
      "      PRIVACY\n",
      "     </a>\n",
      "     <a href=\"/faq/\" target=\"_blank\">\n",
      "      FAQ\n",
      "     </a>\n",
      "     <a class=\"bottomnavlinkoff\" href=\"/sitemap/\">\n",
      "      SITEMAP\n",
      "     </a>\n",
      "     <a class=\"bottomnavlinkoff\" href=\"/feedback/\">\n",
      "      FEEDBACK\n",
      "     </a>\n",
      "     <a href=\"https://www.nasa.gov/multimedia/guidelines/index.html\" target=\"_blank\">\n",
      "      IMAGE POLICY\n",
      "     </a>\n",
      "    </div>\n",
      "   </div>\n",
      "  </div>\n",
      " </body>\n",
      "</html>\n"
     ]
    }
   ],
   "source": [
    "top_pg = f'{url}{top_tit}'.replace(' ', '-')\n",
    "soupo = BeautifulSoup(requests.get(top_pg).text)\n",
    "print(soupo.prettify())"
   ]
  },
  {
   "cell_type": "code",
   "execution_count": 251,
   "metadata": {},
   "outputs": [
    {
     "data": {
      "text/plain": [
       "'NASA Invites Students to Name Mars 2020 Rover'"
      ]
     },
     "execution_count": 251,
     "metadata": {},
     "output_type": "execute_result"
    }
   ],
   "source": [
    "top_tit"
   ]
  },
  {
   "cell_type": "code",
   "execution_count": 112,
   "metadata": {},
   "outputs": [
    {
     "data": {
      "text/plain": [
       "[<img alt=\"NASA Invites Students to Name Mars 2020 Rover\" class=\"img-lazy\" data-lazy=\"/system/news_items/list_view_images/8508_Name_A_unannotated_MAIN-th.jpg\" src=\"/assets/loading_320x240.png\"/>,\n",
       " <img alt=\"More\" src=\"/assets/overlay-arrow.png\"/>,\n",
       " <img alt=\"NASA's Curiosity Mars Rover Finds a Clay Cache\" class=\"img-lazy\" data-lazy=\"/system/news_items/list_view_images/8442_PIA23240_32x24.jpg\" src=\"/assets/loading_320x240.png\"/>,\n",
       " <img alt=\"More\" src=\"/assets/overlay-arrow.png\"/>,\n",
       " <img alt=\"Why This Martian Full Moon Looks Like Candy\" class=\"img-lazy\" data-lazy=\"/system/news_items/list_view_images/8436_PIA23205_annotated-32x24.jpg\" src=\"/assets/loading_320x240.png\"/>,\n",
       " <img alt=\"More\" src=\"/assets/overlay-arrow.png\"/>,\n",
       " <img alt=\"NASA Garners 7 Webby Award Nominations\" class=\"img-lazy\" data-lazy=\"/system/news_items/list_view_images/8426_Webby2019-320x240.jpg\" src=\"/assets/loading_320x240.png\"/>,\n",
       " <img alt=\"More\" src=\"/assets/overlay-arrow.png\"/>,\n",
       " <img alt=\"NASA's Opportunity Rover Mission on Mars Comes to End\" class=\"img-lazy\" data-lazy=\"/system/news_items/list_view_images/8413_PIA06739-320x240.jpg\" src=\"/assets/loading_320x240.png\"/>,\n",
       " <img alt=\"More\" src=\"/assets/overlay-arrow.png\"/>,\n",
       " <img alt=\"NASA's InSight Places First Instrument on Mars\" class=\"img-lazy\" data-lazy=\"/system/news_items/list_view_images/8402_PIA22977_SEIS_deploy_IDC_calibrated-th.gif\" src=\"/assets/loading_320x240.png\"/>]"
      ]
     },
     "execution_count": 112,
     "metadata": {},
     "output_type": "execute_result"
    }
   ],
   "source": [
    "info = top.find_all('img')\n",
    "info = info[1::]\n",
    "info "
   ]
  },
  {
   "cell_type": "code",
   "execution_count": null,
   "metadata": {},
   "outputs": [],
   "source": []
  }
 ],
 "metadata": {
  "kernelspec": {
   "display_name": "Python 36 (py36)",
   "language": "python",
   "name": "pythonstuff"
  },
  "language_info": {
   "codemirror_mode": {
    "name": "ipython",
    "version": 3
   },
   "file_extension": ".py",
   "mimetype": "text/x-python",
   "name": "python",
   "nbconvert_exporter": "python",
   "pygments_lexer": "ipython3",
   "version": "3.7.3"
  }
 },
 "nbformat": 4,
 "nbformat_minor": 2
}
